{
  "cells": [
    {
      "cell_type": "markdown",
      "metadata": {
        "id": "GEaYDGtWpYey"
      },
      "source": [
        "**How to.** Вписываем свою задачу следующим образом: \n",
        "1. Создаём блок из трёх ячеек: описание задачи, реализация, демонстрация. \n",
        "1. В описании задачи пишем: `# Название задачи, ФИО`, после делаете краткое описание реализации с описанием входов и выходов.\n",
        "1. Локально реализуете свои ф-ии и тестируете. После вставляете в общий ноутбук. Требуется проверять не только работоспособность своей ф-ии, но и взаимодействия с другими. "
      ]
    },
    {
      "cell_type": "markdown",
      "source": [
        "# Восстановление модели по графу вычисления, Яковлев Константин \n",
        "\n",
        "Добавление следующих возможностей:\n",
        "\n",
        "1. Построение графа вычислений\n",
        "2. Вычисление прогноза на произвольном объекте\n",
        "3. Оптимизация параметров модели\n",
        "\n"
      ],
      "metadata": {
        "id": "9J-RrFDUQlAf"
      }
    },
    {
      "cell_type": "code",
      "source": [
        "from typing import List, Tuple, Any\n",
        "import numpy as np\n",
        "import torch\n",
        "\n",
        "from time import sleep\n",
        "from tqdm import tqdm\n",
        "\n",
        "\n",
        "_PRIMITIVES = {\n",
        "    'sigmoid': lambda x: 1 / (1 + np.exp(-x)),\n",
        "    'gauss': lambda x: np.exp(-x ** 2),\n",
        "    'exp': lambda x: np.exp(x),\n",
        "    'linear': lambda x, a, b: a * x + b,\n",
        "    'quad': lambda x: x ** 2,\n",
        "    '+': lambda x, y: x + y,\n",
        "    '*': lambda x, y: x * y,\n",
        "    '/': lambda x, y: x / y,\n",
        "}\n",
        "\n",
        "\n",
        "class Node(torch.nn.Module):\n",
        "    pass\n",
        "\n",
        "class Node(torch.nn.Module):\n",
        "    def __init__(self, childs: List[Node], op_name: str, params=List[float]):\n",
        "        \"\"\"\n",
        "        pararm: childs: List of childs\n",
        "        param: op_name: operation name\n",
        "        param: params: parameters of the operation\n",
        "        \"\"\"\n",
        "        super(Node, self).__init__()\n",
        "        self.op_name = op_name\n",
        "        self.childs = childs\n",
        "        self.params = params\n",
        "        \n",
        "    def forward(self, args: List[torch.tensor]):\n",
        "        if len(self.childs) == 0: # if it is a leaf\n",
        "            return _PRIMITIVES[self.op_name](*args, *self.params)\n",
        "        else:\n",
        "            return _PRIMITIVES[self.op_name](*[c(args) for c in self.childs], *self.params)\n",
        "\n",
        "    \n",
        "class Model(torch.nn.Module):\n",
        "    def __init__(self, node: Node):\n",
        "        super(Model, self).__init__()\n",
        "        self.head = node\n",
        "    \n",
        "    \n",
        "    def forward(self, x: torch.tensor):\n",
        "        return self.head([x])\n",
        "    \n",
        "    def fit(self, X_train: np.array, y_train: np.array, verbose=False):\n",
        "        def to_pytorch(node: Node):\n",
        "            node.params = torch.nn.Parameter(torch.tensor(node.params).float())\n",
        "            for c in node.childs:\n",
        "                to_pytorch(c)\n",
        "                \n",
        "        def to_numpy(node: Node):\n",
        "            old_params = node.params.clone()\n",
        "            del node.params\n",
        "            node.params = old_params.detach().numpy()\n",
        "            for c in node.childs:\n",
        "                to_numpy(c)\n",
        "                \n",
        "        assert X_train.shape[0] == y_train.shape[0]\n",
        "        to_pytorch(self.head)\n",
        "        X_train = torch.tensor(X_train)\n",
        "        y_train = torch.tensor(y_train)\n",
        "        \n",
        "        optimizer = torch.optim.SGD(self.parameters(), lr=3e-4)\n",
        "        criterion = torch.nn.MSELoss()\n",
        "        it = range(50)\n",
        "        if verbose:\n",
        "            it = tqdm(it)\n",
        "        for step in it:\n",
        "            for i in range(X_train.shape[0]):\n",
        "                optimizer.zero_grad()\n",
        "                sleep(0.01)\n",
        "                loss = criterion(model(X_train[i]), y_train[i])\n",
        "                loss.backward()\n",
        "                if verbose:\n",
        "                    it.set_postfix({'loss' : loss.item()})\n",
        "                optimizer.step()\n",
        "        \n",
        "        #to_numpy(self.head)\n",
        "        \n",
        "    \n",
        "    \n",
        "    \n",
        "# Examples\n",
        "tree = Node([], 'gauss', [])\n",
        "print(tree([np.array([5, 6])]))\n",
        "\n",
        "tree = Node([], '+', [])\n",
        "print(tree([np.array([2, 3]), np.array([3, 2])]))\n",
        "\n",
        "tree = Node([Node([], 'gauss', []), Node([], 'gauss', [])], '/', [])\n",
        "print(tree([np.array([5, 4])]))\n",
        "\n",
        "tree = Node([], 'linear', [1, 2])\n",
        "print(tree([np.array([2, 3])]))\n",
        "\n",
        "model = Model(tree)\n",
        "print(model(np.array([1, 2])))\n",
        "\n",
        "model.fit(np.random.rand(3, 2), np.random.rand(3), verbose=True)\n",
        "\n"
      ],
      "metadata": {
        "id": "9uyuCiZAQbeX",
        "colab": {
          "base_uri": "https://localhost:8080/"
        },
        "outputId": "a9037a50-3ae8-4d9b-d9a2-5db6eeb1b6b3"
      },
      "execution_count": null,
      "outputs": [
        {
          "output_type": "stream",
          "name": "stdout",
          "text": [
            "[1.38879439e-11 2.31952283e-16]\n",
            "[5 5]\n",
            "[1. 1.]\n",
            "[4 5]\n",
            "[3 4]\n"
          ]
        },
        {
          "output_type": "stream",
          "name": "stderr",
          "text": [
            "  0%|          | 0/50 [00:00<?, ?it/s]/usr/local/lib/python3.7/dist-packages/torch/nn/modules/loss.py:520: UserWarning: Using a target size (torch.Size([])) that is different to the input size (torch.Size([2])). This will likely lead to incorrect results due to broadcasting. Please ensure they have the same size.\n",
            "  return F.mse_loss(input, target, reduction=self.reduction)\n",
            "100%|██████████| 50/50 [00:02<00:00, 21.81it/s, loss=1]\n"
          ]
        }
      ]
    },
    {
      "cell_type": "markdown",
      "source": [
        "# Визуализация дерева, Щагин"
      ],
      "metadata": {
        "id": "nwjRP4ehsCud"
      }
    },
    {
      "cell_type": "code",
      "source": [
        "import graphviz"
      ],
      "metadata": {
        "id": "d5vWIAaJt-BZ"
      },
      "execution_count": null,
      "outputs": []
    },
    {
      "cell_type": "code",
      "source": [
        "def draw_tree(graph, tree, parent_id = '0'):\n",
        "  graph.node(parent_id, tree.op_name)\n",
        "  for id, child in enumerate(tree.childs):\n",
        "    child_id = str(parent_id) + str(id)\n",
        "    graph.node(child_id, child.op_name)\n",
        "    graph.edge(str(parent_id), child_id)\n",
        "    draw_tree(graph, child, parent_id=child_id)\n",
        "\n",
        "tree = Node([Node([Node([], 'gauss', []), Node([], 'gauss', [])], '/', [])], 'exp', [])\n",
        "tree_graph = graphviz.Digraph('tree-graph', comment='Tree graph')\n",
        "draw_tree(tree_graph, tree)\n",
        "tree_graph"
      ],
      "metadata": {
        "colab": {
          "base_uri": "https://localhost:8080/",
          "height": 271
        },
        "id": "XGV4HQbgsccS",
        "outputId": "9d288088-7fe8-457d-c4df-5ae4c930b5ce"
      },
      "execution_count": null,
      "outputs": [
        {
          "output_type": "execute_result",
          "data": {
            "text/plain": [
              "<graphviz.dot.Digraph at 0x7f78945a4d10>"
            ],
            "image/svg+xml": "<?xml version=\"1.0\" encoding=\"UTF-8\" standalone=\"no\"?>\n<!DOCTYPE svg PUBLIC \"-//W3C//DTD SVG 1.1//EN\"\n \"http://www.w3.org/Graphics/SVG/1.1/DTD/svg11.dtd\">\n<!-- Generated by graphviz version 2.40.1 (20161225.0304)\n -->\n<!-- Title: tree&#45;graph Pages: 1 -->\n<svg width=\"150pt\" height=\"188pt\"\n viewBox=\"0.00 0.00 150.39 188.00\" xmlns=\"http://www.w3.org/2000/svg\" xmlns:xlink=\"http://www.w3.org/1999/xlink\">\n<g id=\"graph0\" class=\"graph\" transform=\"scale(1 1) rotate(0) translate(4 184)\">\n<title>tree&#45;graph</title>\n<polygon fill=\"#ffffff\" stroke=\"transparent\" points=\"-4,4 -4,-184 146.3945,-184 146.3945,4 -4,4\"/>\n<!-- 0 -->\n<g id=\"node1\" class=\"node\">\n<title>0</title>\n<ellipse fill=\"none\" stroke=\"#000000\" cx=\"71.1972\" cy=\"-162\" rx=\"27\" ry=\"18\"/>\n<text text-anchor=\"middle\" x=\"71.1972\" y=\"-158.3\" font-family=\"Times,serif\" font-size=\"14.00\" fill=\"#000000\">exp</text>\n</g>\n<!-- 00 -->\n<g id=\"node2\" class=\"node\">\n<title>00</title>\n<ellipse fill=\"none\" stroke=\"#000000\" cx=\"71.1972\" cy=\"-90\" rx=\"27\" ry=\"18\"/>\n<text text-anchor=\"middle\" x=\"71.1972\" y=\"-86.3\" font-family=\"Times,serif\" font-size=\"14.00\" fill=\"#000000\">/</text>\n</g>\n<!-- 0&#45;&gt;00 -->\n<g id=\"edge1\" class=\"edge\">\n<title>0&#45;&gt;00</title>\n<path fill=\"none\" stroke=\"#000000\" d=\"M71.1972,-143.8314C71.1972,-136.131 71.1972,-126.9743 71.1972,-118.4166\"/>\n<polygon fill=\"#000000\" stroke=\"#000000\" points=\"74.6973,-118.4132 71.1972,-108.4133 67.6973,-118.4133 74.6973,-118.4132\"/>\n</g>\n<!-- 000 -->\n<g id=\"node3\" class=\"node\">\n<title>000</title>\n<ellipse fill=\"none\" stroke=\"#000000\" cx=\"31.1972\" cy=\"-18\" rx=\"31.3957\" ry=\"18\"/>\n<text text-anchor=\"middle\" x=\"31.1972\" y=\"-14.3\" font-family=\"Times,serif\" font-size=\"14.00\" fill=\"#000000\">gauss</text>\n</g>\n<!-- 00&#45;&gt;000 -->\n<g id=\"edge2\" class=\"edge\">\n<title>00&#45;&gt;000</title>\n<path fill=\"none\" stroke=\"#000000\" d=\"M61.7178,-72.937C56.9558,-64.3654 51.0813,-53.7914 45.762,-44.2165\"/>\n<polygon fill=\"#000000\" stroke=\"#000000\" points=\"48.8025,-42.4825 40.8865,-35.4407 42.6834,-45.882 48.8025,-42.4825\"/>\n</g>\n<!-- 001 -->\n<g id=\"node4\" class=\"node\">\n<title>001</title>\n<ellipse fill=\"none\" stroke=\"#000000\" cx=\"111.1972\" cy=\"-18\" rx=\"31.3957\" ry=\"18\"/>\n<text text-anchor=\"middle\" x=\"111.1972\" y=\"-14.3\" font-family=\"Times,serif\" font-size=\"14.00\" fill=\"#000000\">gauss</text>\n</g>\n<!-- 00&#45;&gt;001 -->\n<g id=\"edge3\" class=\"edge\">\n<title>00&#45;&gt;001</title>\n<path fill=\"none\" stroke=\"#000000\" d=\"M80.6767,-72.937C85.4387,-64.3654 91.3131,-53.7914 96.6325,-44.2165\"/>\n<polygon fill=\"#000000\" stroke=\"#000000\" points=\"99.711,-45.882 101.508,-35.4407 93.5919,-42.4825 99.711,-45.882\"/>\n</g>\n</g>\n</svg>\n"
          },
          "metadata": {},
          "execution_count": 3
        }
      ]
    },
    {
      "cell_type": "markdown",
      "metadata": {
        "id": "w9wTj5k_pYe2"
      },
      "source": [
        "# Генерация датасетов, Пилькевич\n",
        "\n",
        "* На вход принимается массив с числом семлов `class_nums` для генерации каждого класса, и общие границы генерации данных `loc, scale`. \n",
        "* На выходе два массива из `X, Y` с данными для каждой ф-ии."
      ]
    },
    {
      "cell_type": "code",
      "execution_count": null,
      "metadata": {
        "id": "NtQW60rIpYe2"
      },
      "outputs": [],
      "source": [
        "import scipy.stats as sps\n",
        "\n",
        "import matplotlib.pyplot as plt \n",
        "\n",
        "\n",
        "_CLASSES = [\n",
        "    Node([Node([], 'linear', [5, 0])], 'sigmoid', []), \n",
        "    Node([Node([], 'linear', [3, -4])], 'gauss', []), \n",
        "    Node([], 'exp', []), \n",
        "    Node([], 'linear', [2, 1]), \n",
        "    Node([], 'quad', []),     \n",
        "    Node(\n",
        "        [\n",
        "            Node([], 'quad', []),\n",
        "            Node([], 'linear', [5, 10]) \n",
        "        ], \n",
        "        '+', \n",
        "        []\n",
        "    ),     \n",
        "    Node(\n",
        "        [\n",
        "            Node([Node([], 'linear', [3, -4])], 'gauss', []),\n",
        "            Node([ Node([Node([], 'linear', [3, 4])], 'gauss', [])], 'linear', [-1, 0]) \n",
        "        ], \n",
        "        '+', \n",
        "        []\n",
        "    ), \n",
        "]\n",
        "\n",
        "\n",
        "def generate_data(class_nums: List[int], loc: float = 0, scale: float = 1) -> Tuple[float, Any]:\n",
        "    assert len(class_nums) == len(_CLASSES)\n",
        "    X = [sps.uniform(loc=loc, scale=scale).rvs(num) for num in class_nums]\n",
        "    noises = [sps.norm(scale=1e-2).rvs(num) for num in class_nums] \n",
        "    Y = [f([x]) + noise for f, x, noise in zip(_CLASSES, X, noises)]\n",
        "    return X, Y"
      ]
    },
    {
      "cell_type": "code",
      "execution_count": null,
      "metadata": {
        "id": "Cp4LGE1BpYe4",
        "colab": {
          "base_uri": "https://localhost:8080/",
          "height": 727
        },
        "outputId": "bfe452c8-e41c-4adf-a9e6-ff7205298254"
      },
      "outputs": [
        {
          "output_type": "display_data",
          "data": {
            "text/plain": [
              "<Figure size 1080x1080 with 7 Axes>"
            ],
            "image/png": "[encoded data removed]"
          },
          "metadata": {
            "needs_background": "light"
          }
        }
      ],
      "source": [
        "X, Y = generate_data([1000]*7, -10, 20)\n",
        "\n",
        "plt.figure(figsize=(15, 15))\n",
        "\n",
        "for i, (x, y) in enumerate(zip(X, Y)): \n",
        "    plt.subplot((len(X) + 1) // 2, 2, i+1)\n",
        "    plt.scatter(x, y, alpha=0.4)\n",
        "    \n",
        "plt.tight_layout()"
      ]
    },
    {
      "cell_type": "markdown",
      "source": [
        "# Генетика, порождение моделей, Панкратов\n",
        "Использовать последнюю функцию, вход -- список с начальными моделями, выход - список порожденных. Перед этим изменить константу NUM_GENETIC - число итераций функции"
      ],
      "metadata": {
        "id": "3ZagdpkoEso-"
      }
    },
    {
      "cell_type": "code",
      "source": [
        "from scipy.stats import bernoulli\n",
        "from inspect import signature\n",
        "NUM_GENETIC = 10\n",
        "def change_primitive(Tree):\n",
        "  available_primitives = []\n",
        "  tree_sign = len(signature(_PRIMITIVES[Tree.op_name]).params)\n",
        "  for func in _PRIMITIVES: \n",
        "    if(len(signature(_PRIMITIVES[func]).params) == tree_sign):\n",
        "       available_primitives.append(func)\n",
        "  p = np.random.uniform()\n",
        "  Tree.op_name = available_primitives[int(p//(1/(len(available_primitives))))]\n",
        "  return(Tree)                                            \n",
        "def choose_random_node(Tree):\n",
        "  p = np.random.uniform()\n",
        "  if(p < 1/(1 + len(Tree.childs))):\n",
        "    return Tree\n",
        "  else:\n",
        "    return choose_random_node(Tree.childs[int(p//(1/(1 + len(Tree.childs)))) - 1])\n",
        "def change_single_node(Tree):\n",
        "  p = np.random.uniform()\n",
        "  if(p < 1/(1 + len(Tree.childs))):\n",
        "    Tree = change_primitive(Tree)\n",
        "    return Tree\n",
        "  else:\n",
        "    return change_single_node(Tree.childs[int(p//(1/(1 + len(Tree.childs)))) - 1]) \n",
        "def change_pair_of_nodes(Tree1,Tree2):\n",
        "  p = np.random.uniform()\n",
        "  q = np.random.uniform()\n",
        "  if(p < 1/(1 + len(Tree1.childs))) and (q < 1/(1 + len(Tree2.childs))):\n",
        "    Tree1,Tree2 = Tree2,Tree1\n",
        "  if(p >= 1/(1 + len(Tree1.childs))) and (q >= 1/(1 + len(Tree2.childs))):\n",
        "    Tree1.childs[int(p//(1/(1 + len(Tree1.childs)))) - 1], Tree2.childs[int(q//(1/(1 + len(Tree2.childs)))) - 1] = change_pair_of_nodes(Tree1.childs[int(p//(1/(1 + len(Tree1.childs)))) - 1],Tree2.childs[int(q//(1/(1 + len(Tree2.childs)))) - 1])\n",
        "  if(p < 1/(1 + len(Tree1.childs))) and (q >= 1/(1 + len(Tree2.childs))):\n",
        "    Tree1,Tree2.childs[int(q//(1/(1 + len(Tree2.childs)))) - 1] = change_pair_of_nodes(Tree1,Tree2.childs[int(q//(1/(1 + len(Tree2.childs)))) - 1])\n",
        "  if(p >= 1/(1 + len(Tree1.childs))) and (q < 1/(1 + len(Tree2.childs))):\n",
        "    Tree1.childs[int(p//(1/(1 + len(Tree1.childs)))) - 1], Tree2 = change_pair_of_nodes(Tree1.childs[int(p//(1/(1 + len(Tree1.childs)))) - 1],Tree2)\n",
        "  return(Tree1,Tree2)\n",
        "def modify_trees(*trees):\n",
        "  trees = list(trees)\n",
        "  for i in range(NUM_GENETIC):\n",
        "    a = np.random.randint(0,len(trees))\n",
        "    b = np.random.randint(0,len(trees))\n",
        "    newtree1,newtree2 = change_pair_of_nodes(trees[a],trees[b])\n",
        "    newtree1 = change_single_node(newtree1)\n",
        "    trees.append(newtree1)\n",
        "    trees.append(newtree2)\n",
        "    trees.append(Node([trees[a],trees[b]], '+', []))\n",
        "  return trees  "
      ],
      "metadata": {
        "id": "Y0YgN84DFHAO"
      },
      "execution_count": null,
      "outputs": []
    },
    {
      "cell_type": "code",
      "source": [
        "tree1 = Node([Node([], 'gauss', []), Node([], 'sigmoid', [])], '/', [])\n",
        "tree2 = Node([Node([Node([], '+', [])], 'exp', []), Node([], 'exp', [])], '*', [])\n",
        "tree3,tree4 = change_pair_of_nodes(tree1,tree2)\n",
        "trees = [tree1,tree2,tree3,tree4]\n",
        "trees =  modify_trees(*trees)"
      ],
      "metadata": {
        "id": "1bmlGXcmFTjI",
        "colab": {
          "base_uri": "https://localhost:8080/",
          "height": 353
        },
        "outputId": "46b8db2b-f2cc-4895-f398-ad14c8b2d880"
      },
      "execution_count": null,
      "outputs": [
        {
          "output_type": "error",
          "ename": "AttributeError",
          "evalue": "ignored",
          "traceback": [
            "\u001b[0;31m---------------------------------------------------------------------------\u001b[0m",
            "\u001b[0;31mAttributeError\u001b[0m                            Traceback (most recent call last)",
            "\u001b[0;32m<ipython-input-7-5cbb528d8166>\u001b[0m in \u001b[0;36m<module>\u001b[0;34m()\u001b[0m\n\u001b[1;32m      3\u001b[0m \u001b[0mtree3\u001b[0m\u001b[0;34m,\u001b[0m\u001b[0mtree4\u001b[0m \u001b[0;34m=\u001b[0m \u001b[0mchange_pair_of_nodes\u001b[0m\u001b[0;34m(\u001b[0m\u001b[0mtree1\u001b[0m\u001b[0;34m,\u001b[0m\u001b[0mtree2\u001b[0m\u001b[0;34m)\u001b[0m\u001b[0;34m\u001b[0m\u001b[0;34m\u001b[0m\u001b[0m\n\u001b[1;32m      4\u001b[0m \u001b[0mtrees\u001b[0m \u001b[0;34m=\u001b[0m \u001b[0;34m[\u001b[0m\u001b[0mtree1\u001b[0m\u001b[0;34m,\u001b[0m\u001b[0mtree2\u001b[0m\u001b[0;34m,\u001b[0m\u001b[0mtree3\u001b[0m\u001b[0;34m,\u001b[0m\u001b[0mtree4\u001b[0m\u001b[0;34m]\u001b[0m\u001b[0;34m\u001b[0m\u001b[0;34m\u001b[0m\u001b[0m\n\u001b[0;32m----> 5\u001b[0;31m \u001b[0mtrees\u001b[0m \u001b[0;34m=\u001b[0m  \u001b[0mmodify_trees\u001b[0m\u001b[0;34m(\u001b[0m\u001b[0;34m*\u001b[0m\u001b[0mtrees\u001b[0m\u001b[0;34m)\u001b[0m\u001b[0;34m\u001b[0m\u001b[0;34m\u001b[0m\u001b[0m\n\u001b[0m",
            "\u001b[0;32m<ipython-input-6-329f193a940f>\u001b[0m in \u001b[0;36mmodify_trees\u001b[0;34m(*trees)\u001b[0m\n\u001b[1;32m     42\u001b[0m     \u001b[0mb\u001b[0m \u001b[0;34m=\u001b[0m \u001b[0mnp\u001b[0m\u001b[0;34m.\u001b[0m\u001b[0mrandom\u001b[0m\u001b[0;34m.\u001b[0m\u001b[0mrandint\u001b[0m\u001b[0;34m(\u001b[0m\u001b[0;36m0\u001b[0m\u001b[0;34m,\u001b[0m\u001b[0mlen\u001b[0m\u001b[0;34m(\u001b[0m\u001b[0mtrees\u001b[0m\u001b[0;34m)\u001b[0m\u001b[0;34m)\u001b[0m\u001b[0;34m\u001b[0m\u001b[0;34m\u001b[0m\u001b[0m\n\u001b[1;32m     43\u001b[0m     \u001b[0mnewtree1\u001b[0m\u001b[0;34m,\u001b[0m\u001b[0mnewtree2\u001b[0m \u001b[0;34m=\u001b[0m \u001b[0mchange_pair_of_nodes\u001b[0m\u001b[0;34m(\u001b[0m\u001b[0mtrees\u001b[0m\u001b[0;34m[\u001b[0m\u001b[0ma\u001b[0m\u001b[0;34m]\u001b[0m\u001b[0;34m,\u001b[0m\u001b[0mtrees\u001b[0m\u001b[0;34m[\u001b[0m\u001b[0mb\u001b[0m\u001b[0;34m]\u001b[0m\u001b[0;34m)\u001b[0m\u001b[0;34m\u001b[0m\u001b[0;34m\u001b[0m\u001b[0m\n\u001b[0;32m---> 44\u001b[0;31m     \u001b[0mnewtree1\u001b[0m \u001b[0;34m=\u001b[0m \u001b[0mchange_single_node\u001b[0m\u001b[0;34m(\u001b[0m\u001b[0mnewtree1\u001b[0m\u001b[0;34m)\u001b[0m\u001b[0;34m\u001b[0m\u001b[0;34m\u001b[0m\u001b[0m\n\u001b[0m\u001b[1;32m     45\u001b[0m     \u001b[0mtrees\u001b[0m\u001b[0;34m.\u001b[0m\u001b[0mappend\u001b[0m\u001b[0;34m(\u001b[0m\u001b[0mnewtree1\u001b[0m\u001b[0;34m)\u001b[0m\u001b[0;34m\u001b[0m\u001b[0;34m\u001b[0m\u001b[0m\n\u001b[1;32m     46\u001b[0m     \u001b[0mtrees\u001b[0m\u001b[0;34m.\u001b[0m\u001b[0mappend\u001b[0m\u001b[0;34m(\u001b[0m\u001b[0mnewtree2\u001b[0m\u001b[0;34m)\u001b[0m\u001b[0;34m\u001b[0m\u001b[0;34m\u001b[0m\u001b[0m\n",
            "\u001b[0;32m<ipython-input-6-329f193a940f>\u001b[0m in \u001b[0;36mchange_single_node\u001b[0;34m(Tree)\u001b[0m\n\u001b[1;32m     23\u001b[0m     \u001b[0;32mreturn\u001b[0m \u001b[0mTree\u001b[0m\u001b[0;34m\u001b[0m\u001b[0;34m\u001b[0m\u001b[0m\n\u001b[1;32m     24\u001b[0m   \u001b[0;32melse\u001b[0m\u001b[0;34m:\u001b[0m\u001b[0;34m\u001b[0m\u001b[0;34m\u001b[0m\u001b[0m\n\u001b[0;32m---> 25\u001b[0;31m     \u001b[0;32mreturn\u001b[0m \u001b[0mchange_single_node\u001b[0m\u001b[0;34m(\u001b[0m\u001b[0mTree\u001b[0m\u001b[0;34m.\u001b[0m\u001b[0mchilds\u001b[0m\u001b[0;34m[\u001b[0m\u001b[0mint\u001b[0m\u001b[0;34m(\u001b[0m\u001b[0mp\u001b[0m\u001b[0;34m//\u001b[0m\u001b[0;34m(\u001b[0m\u001b[0;36m1\u001b[0m\u001b[0;34m/\u001b[0m\u001b[0;34m(\u001b[0m\u001b[0;36m1\u001b[0m \u001b[0;34m+\u001b[0m \u001b[0mlen\u001b[0m\u001b[0;34m(\u001b[0m\u001b[0mTree\u001b[0m\u001b[0;34m.\u001b[0m\u001b[0mchilds\u001b[0m\u001b[0;34m)\u001b[0m\u001b[0;34m)\u001b[0m\u001b[0;34m)\u001b[0m\u001b[0;34m)\u001b[0m \u001b[0;34m-\u001b[0m \u001b[0;36m1\u001b[0m\u001b[0;34m]\u001b[0m\u001b[0;34m)\u001b[0m\u001b[0;34m\u001b[0m\u001b[0;34m\u001b[0m\u001b[0m\n\u001b[0m\u001b[1;32m     26\u001b[0m \u001b[0;32mdef\u001b[0m \u001b[0mchange_pair_of_nodes\u001b[0m\u001b[0;34m(\u001b[0m\u001b[0mTree1\u001b[0m\u001b[0;34m,\u001b[0m\u001b[0mTree2\u001b[0m\u001b[0;34m)\u001b[0m\u001b[0;34m:\u001b[0m\u001b[0;34m\u001b[0m\u001b[0;34m\u001b[0m\u001b[0m\n\u001b[1;32m     27\u001b[0m   \u001b[0mp\u001b[0m \u001b[0;34m=\u001b[0m \u001b[0mnp\u001b[0m\u001b[0;34m.\u001b[0m\u001b[0mrandom\u001b[0m\u001b[0;34m.\u001b[0m\u001b[0muniform\u001b[0m\u001b[0;34m(\u001b[0m\u001b[0;34m)\u001b[0m\u001b[0;34m\u001b[0m\u001b[0;34m\u001b[0m\u001b[0m\n",
            "\u001b[0;32m<ipython-input-6-329f193a940f>\u001b[0m in \u001b[0;36mchange_single_node\u001b[0;34m(Tree)\u001b[0m\n\u001b[1;32m     23\u001b[0m     \u001b[0;32mreturn\u001b[0m \u001b[0mTree\u001b[0m\u001b[0;34m\u001b[0m\u001b[0;34m\u001b[0m\u001b[0m\n\u001b[1;32m     24\u001b[0m   \u001b[0;32melse\u001b[0m\u001b[0;34m:\u001b[0m\u001b[0;34m\u001b[0m\u001b[0;34m\u001b[0m\u001b[0m\n\u001b[0;32m---> 25\u001b[0;31m     \u001b[0;32mreturn\u001b[0m \u001b[0mchange_single_node\u001b[0m\u001b[0;34m(\u001b[0m\u001b[0mTree\u001b[0m\u001b[0;34m.\u001b[0m\u001b[0mchilds\u001b[0m\u001b[0;34m[\u001b[0m\u001b[0mint\u001b[0m\u001b[0;34m(\u001b[0m\u001b[0mp\u001b[0m\u001b[0;34m//\u001b[0m\u001b[0;34m(\u001b[0m\u001b[0;36m1\u001b[0m\u001b[0;34m/\u001b[0m\u001b[0;34m(\u001b[0m\u001b[0;36m1\u001b[0m \u001b[0;34m+\u001b[0m \u001b[0mlen\u001b[0m\u001b[0;34m(\u001b[0m\u001b[0mTree\u001b[0m\u001b[0;34m.\u001b[0m\u001b[0mchilds\u001b[0m\u001b[0;34m)\u001b[0m\u001b[0;34m)\u001b[0m\u001b[0;34m)\u001b[0m\u001b[0;34m)\u001b[0m \u001b[0;34m-\u001b[0m \u001b[0;36m1\u001b[0m\u001b[0;34m]\u001b[0m\u001b[0;34m)\u001b[0m\u001b[0;34m\u001b[0m\u001b[0;34m\u001b[0m\u001b[0m\n\u001b[0m\u001b[1;32m     26\u001b[0m \u001b[0;32mdef\u001b[0m \u001b[0mchange_pair_of_nodes\u001b[0m\u001b[0;34m(\u001b[0m\u001b[0mTree1\u001b[0m\u001b[0;34m,\u001b[0m\u001b[0mTree2\u001b[0m\u001b[0;34m)\u001b[0m\u001b[0;34m:\u001b[0m\u001b[0;34m\u001b[0m\u001b[0;34m\u001b[0m\u001b[0m\n\u001b[1;32m     27\u001b[0m   \u001b[0mp\u001b[0m \u001b[0;34m=\u001b[0m \u001b[0mnp\u001b[0m\u001b[0;34m.\u001b[0m\u001b[0mrandom\u001b[0m\u001b[0;34m.\u001b[0m\u001b[0muniform\u001b[0m\u001b[0;34m(\u001b[0m\u001b[0;34m)\u001b[0m\u001b[0;34m\u001b[0m\u001b[0;34m\u001b[0m\u001b[0m\n",
            "\u001b[0;32m<ipython-input-6-329f193a940f>\u001b[0m in \u001b[0;36mchange_single_node\u001b[0;34m(Tree)\u001b[0m\n\u001b[1;32m     20\u001b[0m   \u001b[0mp\u001b[0m \u001b[0;34m=\u001b[0m \u001b[0mnp\u001b[0m\u001b[0;34m.\u001b[0m\u001b[0mrandom\u001b[0m\u001b[0;34m.\u001b[0m\u001b[0muniform\u001b[0m\u001b[0;34m(\u001b[0m\u001b[0;34m)\u001b[0m\u001b[0;34m\u001b[0m\u001b[0;34m\u001b[0m\u001b[0m\n\u001b[1;32m     21\u001b[0m   \u001b[0;32mif\u001b[0m\u001b[0;34m(\u001b[0m\u001b[0mp\u001b[0m \u001b[0;34m<\u001b[0m \u001b[0;36m1\u001b[0m\u001b[0;34m/\u001b[0m\u001b[0;34m(\u001b[0m\u001b[0;36m1\u001b[0m \u001b[0;34m+\u001b[0m \u001b[0mlen\u001b[0m\u001b[0;34m(\u001b[0m\u001b[0mTree\u001b[0m\u001b[0;34m.\u001b[0m\u001b[0mchilds\u001b[0m\u001b[0;34m)\u001b[0m\u001b[0;34m)\u001b[0m\u001b[0;34m)\u001b[0m\u001b[0;34m:\u001b[0m\u001b[0;34m\u001b[0m\u001b[0;34m\u001b[0m\u001b[0m\n\u001b[0;32m---> 22\u001b[0;31m     \u001b[0mTree\u001b[0m \u001b[0;34m=\u001b[0m \u001b[0mchange_primitive\u001b[0m\u001b[0;34m(\u001b[0m\u001b[0mTree\u001b[0m\u001b[0;34m)\u001b[0m\u001b[0;34m\u001b[0m\u001b[0;34m\u001b[0m\u001b[0m\n\u001b[0m\u001b[1;32m     23\u001b[0m     \u001b[0;32mreturn\u001b[0m \u001b[0mTree\u001b[0m\u001b[0;34m\u001b[0m\u001b[0;34m\u001b[0m\u001b[0m\n\u001b[1;32m     24\u001b[0m   \u001b[0;32melse\u001b[0m\u001b[0;34m:\u001b[0m\u001b[0;34m\u001b[0m\u001b[0;34m\u001b[0m\u001b[0m\n",
            "\u001b[0;32m<ipython-input-6-329f193a940f>\u001b[0m in \u001b[0;36mchange_primitive\u001b[0;34m(Tree)\u001b[0m\n\u001b[1;32m      4\u001b[0m \u001b[0;32mdef\u001b[0m \u001b[0mchange_primitive\u001b[0m\u001b[0;34m(\u001b[0m\u001b[0mTree\u001b[0m\u001b[0;34m)\u001b[0m\u001b[0;34m:\u001b[0m\u001b[0;34m\u001b[0m\u001b[0;34m\u001b[0m\u001b[0m\n\u001b[1;32m      5\u001b[0m   \u001b[0mavailable_primitives\u001b[0m \u001b[0;34m=\u001b[0m \u001b[0;34m[\u001b[0m\u001b[0;34m]\u001b[0m\u001b[0;34m\u001b[0m\u001b[0;34m\u001b[0m\u001b[0m\n\u001b[0;32m----> 6\u001b[0;31m   \u001b[0mtree_sign\u001b[0m \u001b[0;34m=\u001b[0m \u001b[0mlen\u001b[0m\u001b[0;34m(\u001b[0m\u001b[0msignature\u001b[0m\u001b[0;34m(\u001b[0m\u001b[0m_PRIMITIVES\u001b[0m\u001b[0;34m[\u001b[0m\u001b[0mTree\u001b[0m\u001b[0;34m.\u001b[0m\u001b[0mop_name\u001b[0m\u001b[0;34m]\u001b[0m\u001b[0;34m)\u001b[0m\u001b[0;34m.\u001b[0m\u001b[0mparams\u001b[0m\u001b[0;34m)\u001b[0m\u001b[0;34m\u001b[0m\u001b[0;34m\u001b[0m\u001b[0m\n\u001b[0m\u001b[1;32m      7\u001b[0m   \u001b[0;32mfor\u001b[0m \u001b[0mfunc\u001b[0m \u001b[0;32min\u001b[0m \u001b[0m_PRIMITIVES\u001b[0m\u001b[0;34m:\u001b[0m\u001b[0;34m\u001b[0m\u001b[0;34m\u001b[0m\u001b[0m\n\u001b[1;32m      8\u001b[0m     \u001b[0;32mif\u001b[0m\u001b[0;34m(\u001b[0m\u001b[0mlen\u001b[0m\u001b[0;34m(\u001b[0m\u001b[0msignature\u001b[0m\u001b[0;34m(\u001b[0m\u001b[0m_PRIMITIVES\u001b[0m\u001b[0;34m[\u001b[0m\u001b[0mfunc\u001b[0m\u001b[0;34m]\u001b[0m\u001b[0;34m)\u001b[0m\u001b[0;34m.\u001b[0m\u001b[0mparams\u001b[0m\u001b[0;34m)\u001b[0m \u001b[0;34m==\u001b[0m \u001b[0mtree_sign\u001b[0m\u001b[0;34m)\u001b[0m\u001b[0;34m:\u001b[0m\u001b[0;34m\u001b[0m\u001b[0;34m\u001b[0m\u001b[0m\n",
            "\u001b[0;31mAttributeError\u001b[0m: 'Signature' object has no attribute 'params'"
          ]
        }
      ]
    },
    {
      "cell_type": "markdown",
      "source": [
        "# Генетика (selection), Горпинич Мария"
      ],
      "metadata": {
        "id": "Ie7xn1jFv0tN"
      }
    },
    {
      "cell_type": "code",
      "source": [
        "class Selection:\n",
        "\n",
        "    def __init__(self, population, eval_crit, eval_crit_params, tournament_size):\n",
        "        self.parents = population\n",
        "        self.offsprings = []\n",
        "        self.eval_crit = eval_crit\n",
        "        self.eval_crit_params = eval_crit_params\n",
        "        self.tournament_size = tournament_size\n",
        "\n",
        "    def __tournament_selection(self):\n",
        "        X, Y, a, b, tau = self.eval_crit_params\n",
        "        n = len(self.parents)\n",
        "        best = None\n",
        "        second_best = None\n",
        "        for _ in range(self.tournament_size):\n",
        "            ind = np.random.randint(0, n)\n",
        "            if best is None:\n",
        "                best = ind\n",
        "            elif self.eval_crit(self.parents[ind], X, Y, a, b, tau) > self.eval_crit(self.parents[best], X, Y, a, b, tau):\n",
        "                best = ind\n",
        "                second_best = best\n",
        "            elif (second_best == None) or ((self.eval_crit(self.parents[ind], X, Y, a, b, tau) < self.eval_crit(self.parents[best], X, Y, a, b, tau)) and (self.eval_crit(self.parents[ind], X, Y, a, b, tau) > self.eval_crit(self.parents[second_best], X, Y, a, b, tau))):\n",
        "                second_best = ind\n",
        "        return best, second_best\n",
        "\n",
        "    def generate_pairs(self):\n",
        "        for _ in range(int(np.ceil(float(len(self.parents))/2))):\n",
        "            pair = self.__tournament_selection()\n",
        "            self.offsprings.append((self.parents[pair[0]], self.parents[pair[1]]))\n",
        "        return self.offsprings"
      ],
      "metadata": {
        "id": "TmjTPzjdv1z3"
      },
      "execution_count": null,
      "outputs": []
    },
    {
      "cell_type": "code",
      "source": [
        "# немного поправила функции Антонины\n",
        "# Функционал ошибки\n",
        "def error_function(f, X, Y):\n",
        "  return sum([(Y[i] - f(X[i]))**2 for i in range(len(Y))])\n",
        "\n",
        "# Сложность \n",
        "def C(tree):\n",
        "  c = 1\n",
        "  childs = tree.childs\n",
        "  if len(childs) == 0:\n",
        "    return c\n",
        "  else:\n",
        "    return sum([C(child) for child in childs])\n",
        "\n",
        "# Функционал качества \n",
        "def Q(tree, X, Y, a, b, tau):\n",
        "  f = Model(tree)\n",
        "  Sf = np.sum(error_function(f, X, Y))\n",
        "  Cf = C(tree)\n",
        "  return (1/(1 + Sf))*(a + ((1 - a)/(1 + np.exp(Cf/b - tau))))"
      ],
      "metadata": {
        "id": "bwKHxXzEwpGP"
      },
      "execution_count": null,
      "outputs": []
    },
    {
      "cell_type": "code",
      "source": [
        "_CLASSES = [\n",
        "    Node([], 'gauss', []),\n",
        "    Node([Node([], 'gauss', []), Node([], 'gauss', [])], '/', []),\n",
        "    Node([], 'linear', [1, 2]),\n",
        "    Node([Node([], 'exp', []), Node([], 'exp', [])], '/', []),\n",
        "    Node([], 'linear', [3, 4]),\n",
        "]\n",
        "\n",
        "X, Y = generate_data([1000]*5, -10, 20)\n",
        "\n",
        "tree1 = Node([], 'gauss', [])\n",
        "tree2 = Node([Node([], 'gauss', []), Node([], 'gauss', [])], '/', [])\n",
        "tree3 = Node([], 'linear', [1, 2])\n",
        "tree4 = Node([Node([], 'exp', []), Node([], 'exp', [])], '/', [])\n",
        "tree5 = Node([], 'linear', [3, 4])\n",
        "\n",
        "population = [tree1, tree2, tree3, tree4, tree5]\n",
        "\n",
        "a, b, tau = 1., 1., 1.\n",
        "sel = Selection(population, Q, (X, Y, a, b, tau), 2)\n",
        "sel.generate_pairs()"
      ],
      "metadata": {
        "colab": {
          "base_uri": "https://localhost:8080/"
        },
        "id": "F-kz4liyv4GQ",
        "outputId": "e6afa1ff-d352-4ca4-fc73-3f76a18c6f4f"
      },
      "execution_count": null,
      "outputs": [
        {
          "output_type": "execute_result",
          "data": {
            "text/plain": [
              "[(Node(), Node()), (Node(), Node()), (Node(), Node())]"
            ]
          },
          "metadata": {},
          "execution_count": 10
        }
      ]
    },
    {
      "cell_type": "markdown",
      "source": [
        "# Построение матрицы смежности по матрице суперпозиции, Пяткин Станислав\n",
        "\n",
        "Реализован алгоритм Краскала (Прима) с модификациями. \\\\\n",
        " \n",
        "Класс Gamma получает симметричную матрицу суперпозиции и лист, содержащий количество переменных, которые принимают функции-примитивы.\n",
        "\n",
        "Матрица имеет размер (n+1, n+1), где n - число функций примитивов. Дополнительный столбец/строка для вершины y - корня вычислительного дерева.\n",
        "\n",
        "После применения после создания класса, Gamma.G - искомая матрица смежности.\n",
        "\n",
        "Ниже приведен пример использования.\n",
        "\n",
        "Итоговый граф имеет вид:\n",
        "$y = f_1(f_4(), f_3(f_2()))$, заметим, что функции без входа трактуются как функции принимающие $x$, т.е. в нашем случае $y = f_1(f_4(x), f_3(f_2(x)))$."
      ],
      "metadata": {
        "id": "KJMacGBkmVeb"
      }
    },
    {
      "cell_type": "code",
      "source": [
        "import numpy as np\n",
        "\n",
        "class Gamma:\n",
        "    def __init__(self, M, L):\n",
        "        \"\"\"\n",
        "        param: M: symmetric matrix, M.shape = (n+1, n+1)\n",
        "        param: L: list of number of arguments\n",
        "        \"\"\"\n",
        "        self.M = np.array(M)\n",
        "        self.L = L\n",
        "        self.L.append(0)\n",
        "        self.V = M.shape[0]\n",
        "        \n",
        "        self.graph = []\n",
        "        for i in range(self.V):\n",
        "            for j in range(i+1, self.V):\n",
        "                self.graph.append([i, j, -M[i, j]])\n",
        "\n",
        "        self.G = np.zeros(M.shape)\n",
        "        self.kruskal()\n",
        "  \n",
        "    def search(self, parent, i):\n",
        "        if parent[i] == i:\n",
        "            return i\n",
        "        return self.search(parent, parent[i])\n",
        " \n",
        "    def apply_union(self, parent, rank, x, y):\n",
        "        xroot = self.search(parent, x)\n",
        "        yroot = self.search(parent, y)\n",
        "        if rank[xroot] < rank[yroot]:\n",
        "            parent[xroot] = yroot\n",
        "        elif rank[xroot] > rank[yroot]:\n",
        "            parent[yroot] = xroot\n",
        "        else:\n",
        "            parent[yroot] = xroot\n",
        "            rank[xroot] += 1\n",
        " \n",
        "  \n",
        "    def kruskal(self):\n",
        "        result = []\n",
        "        i, e = 0, 0\n",
        "        self.graph = sorted(self.graph, key=lambda item: item[2])\n",
        "        parent = []\n",
        "        rank = []\n",
        "        var = []\n",
        "        for node in range(self.V):\n",
        "            parent.append(node)\n",
        "            rank.append(0)\n",
        "            var.append(0)\n",
        "        while e < self.V - 1:\n",
        "            u, v, w = self.graph[i]\n",
        "            i = i + 1\n",
        "            x = self.search(parent, u)\n",
        "            y = self.search(parent, v)\n",
        "            if (x != y) and (var[v] <= self.L[v]) and (var[u] <= self.L[u]):\n",
        "                e = e + 1\n",
        "                var[v] += 1\n",
        "                var[u] += 1\n",
        "                result.append([u, v, w])\n",
        "                self.apply_union(parent, rank, x, y)\n",
        "        for u, v, weight in result:\n",
        "            self.G[u, v] = 1\n",
        "            self.G[v, u] = 1"
      ],
      "metadata": {
        "id": "atSP5dU7oGdX"
      },
      "execution_count": null,
      "outputs": []
    },
    {
      "cell_type": "code",
      "source": [
        "M = np.array([[0.2, 0.1, 0.3, 0.4, 0.7], \n",
        "              [0.1, 0.2, 0.9, 0.1, 0.7], \n",
        "              [0.9, 0.9, 0.6, 0.1, 0.7], \n",
        "              [0.1, 0.2, 0.3, 0.4, 0.6], \n",
        "              [0.3, 0.8, 0.0, 0.2, 0.7]])\n",
        "L = [2, 1, 1, 2]\n",
        "\n",
        "g = Gamma(M, L)\n",
        "print(g.G)"
      ],
      "metadata": {
        "id": "LpzfNRF_ovPA"
      },
      "execution_count": null,
      "outputs": []
    },
    {
      "cell_type": "markdown",
      "source": [
        "# Ошибка, Курдюкова Антонина\n",
        "\n",
        "Имеется набор выборок и набор моделей оптимальной структуры. Будем считать, что одной выборке соответствует одна модель. Требуется предсказать по вновь полученной выборке структуру модели, которая адекватно аппроксимирует выборку.\n",
        "\n",
        "$f$ - прогностическая модель;\n",
        "\n",
        "$f = (g_1 \\circ \\dots \\circ g_v)(x)$;\n",
        "\n",
        "$G = \\{ g_i\\}_i$ - набор примитивов.\n",
        "\n",
        "Есть набор правил, должны построить вычислимый граф. Суперпозицию представляем в виде дереваю.\n",
        "\n",
        "## Постановка задачи\n",
        "\n",
        "Множество всех суперпозиций:\n",
        "$$ \\mathcal{F} = \\{f_r\\,|\\; f_r:(\\mathbf{\\omega}, \\mathbf{x}) \\rightarrow y\\in Y , r\\in \\mathbb{N}\\}$$\n",
        "\n",
        "Оптимальная суперпозиция:\n",
        "$$ \\hat{r} = \\arg\\min_{r\\in \\mathbb{N}} Q(f_r|\\hat{\\mathbf{\\omega}}_r, \\mathcal{D}),$$\n",
        "где $\\mathcal{D}$ - выборка, $Q$ - функционал качества, зависит от сложности супепозиции $C(f)$ и функционала ошибки $S$ на данной выборке $\\mathcal{D}$\n",
        "$$ \\hat{\\mathbf{\\omega}}_r = \\arg\\min_{\\mathbf{\\omega}\\in \\Omega}S(\\mathbf{\\omega}|f_r, \\mathcal{D}) $$\n",
        "\n",
        "Функционал $Q_f$ выбирается эвристически с учетом следующих естественных соображений:\n",
        "1. из двух суперпозиций одинаковой сложности $C_f$ выбирается обеспечивающая более оптимальное значение функционала ошибки $S_f$;\n",
        "2. из двух суперпозиций, имеющих одно и то же значение функционала ошибки $S_f$, выбирается суперпозиция, обладающая меньшей сложностью $C_f$ .\n",
        "\n",
        "## Сложность суперпозиции\n",
        "\n",
        "За сложность $C_f$ суперпозиции $f$ примем количество узлов в дереве, представляющем данную суперпозицию\n",
        "\n",
        "## Функционал ошибки\n",
        "\n",
        "В качестве функционала ошибки $S$ используется сумма квадратов регрессионных остатков для данной суперпозиции $f$ с вектором параметров $\\mathbf{\\omega}$ при регрессионной выборке $\\mathcal{D}$:\n",
        "$$ S(\\mathbf{\\omega}, f, \\mathcal{D}) = \\sum_{i=1}^N (y_i - f(\\mathbf{\\omega}, \\mathbf{x}_i))^2 $$\n",
        "\n",
        "## Функционал качества\n",
        "\n",
        "$$ Q_f = \\frac{1}{1+S_f}\\left(\\alpha + \\frac{1 - \\alpha}{1 + \\exp(C_f/\\beta - \\tau)} \\right)$$\n",
        "где \n",
        "\n",
        "$0<<\\alpha<1$ — некоторый коэффициент влияния штрафа за сложность,\n",
        "\n",
        "$β > 0$ — коэффициент строгости штрафа за сложность,\n",
        "\n",
        "$τ$ — коэффициент, характеризующий желаемую сложность модели.\n",
        "\n",
        "Значения параметров $\\alpha, \\beta, \\tau$ выбираются экспертно исходя из предположений о виде искомой суперпозиции и моделируемом явлении."
      ],
      "metadata": {
        "id": "YZ63a3jiuBQ-"
      }
    },
    {
      "cell_type": "code",
      "source": [
        "# Функционал ошибки\n",
        "def error_function(w, f, X, Y):\n",
        "  return sum([(Y[i] - f(w, X[i]))**2 for i in range(len(Y))])\n",
        "\n",
        "# Сложность \n",
        "def C(tree):\n",
        "  c = 1\n",
        "  childs = tree.childs\n",
        "  if len(childs) == 0:\n",
        "    return c\n",
        "  else:\n",
        "    return sum([C(child) for child in childs])\n",
        "\n",
        "# Функционал качества \n",
        "def Q(tree, w, X, Y, a, b, tau):\n",
        "  f = Model(tree)\n",
        "  Sf = error_function(w, f, X, Y)\n",
        "  Cf = C(tree)\n",
        "  return (1/(1 + Sf))*(a + ((1 - a)/(1 + np.exp(Cf/b - tau))))"
      ],
      "metadata": {
        "id": "7jf_5bX2uJ20"
      },
      "execution_count": null,
      "outputs": []
    },
    {
      "cell_type": "markdown",
      "source": [
        "# Полный перебор, Воронов Артём\n",
        "\n",
        "Осуществляется перебор всех деревьев меньше заданной сложности и выбирается вариант с наименьшей ошибкой"
      ],
      "metadata": {
        "id": "XSV-KBiXzIA5"
      }
    },
    {
      "cell_type": "code",
      "source": [
        "from copy import deepcopy\n",
        "\n",
        "_PRIMITIVES[\"itself\"] = lambda x: x\n",
        "\n",
        "primitives_to_child_count = {\n",
        "    'sigmoid': 1, 'gauss': 1, 'exp': 1, 'linear': 1, 'quad': 1, 'itself': 1,\n",
        "    '+': 2, '*': 2, '/': 2\n",
        "}\n",
        "\n",
        "primitives_to_init_params = {\n",
        "    'sigmoid': [], 'gauss': [], 'exp': [], 'quad': [], '+': [], '*': [], '/': [], 'itself': [],\n",
        "    'linear': [1, 1], \n",
        "}\n",
        "\n",
        "X, Y = generate_data([100] * 5, -10, 20)\n",
        "\n",
        "\n",
        "def get_leaves(tree):\n",
        "    if len(tree.childs) == 0:\n",
        "        return [tree]\n",
        "    else:\n",
        "        return sum([get_leaves(child) for child in tree.childs], [])\n",
        "\n",
        "\n",
        "def C(tree):\n",
        "    c = 1\n",
        "    if tree.op_name == \"itself\":\n",
        "        c = 0\n",
        "    if len(tree.childs) == 0:\n",
        "        return c\n",
        "    else:\n",
        "        return sum([C(child) for child in tree.childs]) + c\n",
        "\n",
        "\n",
        "def to_str(tree):\n",
        "    if primitives_to_child_count[tree.op_name] == 1:\n",
        "        if len(tree.childs):\n",
        "            if tree.op_name == \"itself\":\n",
        "                return to_str(tree.childs[0])\n",
        "            return f\"{tree.op_name}({to_str(tree.childs[0])})\"\n",
        "        if tree.op_name == \"itself\":\n",
        "            return \"x\"   \n",
        "        return f\"{tree.op_name}(x)\"\n",
        "    else:\n",
        "        return f\"{to_str(tree.childs[0])}{tree.op_name}{to_str(tree.childs[1])}\""
      ],
      "metadata": {
        "id": "n6J7djJSzHdf"
      },
      "execution_count": null,
      "outputs": []
    },
    {
      "cell_type": "code",
      "source": [
        "for i, (x, y) in enumerate(zip(X, Y)): \n",
        "    saved_loss = 1e+16\n",
        "    saved_tree = None\n",
        "    \n",
        "    def check_tree(tree, init_i=0):        \n",
        "        global saved_loss\n",
        "        global saved_tree\n",
        "        \n",
        "        if C(tree) > 3:\n",
        "            return\n",
        "        \n",
        "        model = Model(tree)\n",
        "        # model.fit(x, y)\n",
        "        loss = np.mean((model(x) - y) ** 2)\n",
        "\n",
        "        if loss < saved_loss:\n",
        "            saved_loss = loss\n",
        "            saved_tree = deepcopy(tree)\n",
        "        \n",
        "        leaves_count = len(get_leaves(tree))\n",
        "        for i in range(init_i, leaves_count):\n",
        "            for primitive in _PRIMITIVES: \n",
        "                if primitive == \"itself\":\n",
        "                    continue\n",
        "                \n",
        "                tree_ = deepcopy(tree)\n",
        "                leaf = get_leaves(tree_)[i]\n",
        "                leaf.childs.append(Node([], primitive, primitives_to_init_params[primitive]))\n",
        "                if primitives_to_child_count[primitive] > 1:\n",
        "                    leaf.childs[-1].childs = [Node([], \"itself\", []), Node([], \"itself\", [])]\n",
        " \n",
        "                check_tree(tree_, i)\n",
        "      \n",
        "    \n",
        "    for primitive in _PRIMITIVES:\n",
        "        if primitive == \"itself\":\n",
        "            continue\n",
        "        tree = Node([], primitive, primitives_to_init_params[primitive])\n",
        "        if primitives_to_child_count[primitive] > 1:\n",
        "            tree.childs = [Node([], \"itself\", []), Node([], \"itself\", [])]\n",
        "        check_tree(tree)\n",
        "    \n",
        "    print(f\"Func {i + 1}: f(x)={to_str(saved_tree)} with loss={saved_loss}\")"
      ],
      "metadata": {
        "id": "WGaeeO-rzU42",
        "colab": {
          "base_uri": "https://localhost:8080/"
        },
        "outputId": "576edeaf-5cd1-4e13-f5af-08739f730936"
      },
      "execution_count": null,
      "outputs": [
        {
          "output_type": "stream",
          "name": "stderr",
          "text": [
            "/usr/local/lib/python3.7/dist-packages/ipykernel_launcher.py:12: RuntimeWarning: overflow encountered in exp\n",
            "  if sys.path[0] == '':\n",
            "/usr/local/lib/python3.7/dist-packages/ipykernel_launcher.py:10: RuntimeWarning: overflow encountered in exp\n",
            "  # Remove the CWD from sys.path while we load stuff.\n",
            "/usr/local/lib/python3.7/dist-packages/ipykernel_launcher.py:11: RuntimeWarning: overflow encountered in square\n",
            "  # This is added back by InteractiveShellApp.init_path()\n",
            "/usr/local/lib/python3.7/dist-packages/ipykernel_launcher.py:14: RuntimeWarning: overflow encountered in square\n",
            "  \n",
            "/usr/local/lib/python3.7/dist-packages/ipykernel_launcher.py:17: RuntimeWarning: divide by zero encountered in true_divide\n"
          ]
        },
        {
          "output_type": "stream",
          "name": "stdout",
          "text": [
            "Func 1: f(x)=gauss(x) with loss=9.862405985816825e-05\n",
            "Func 2: f(x)=quad(x)/x/x with loss=0.00013394103428354356\n",
            "Func 3: f(x)=linear(linear(x)) with loss=0.00010202724569114036\n"
          ]
        },
        {
          "output_type": "stream",
          "name": "stderr",
          "text": [
            "/usr/local/lib/python3.7/dist-packages/ipykernel_launcher.py:17: RuntimeWarning: overflow encountered in true_divide\n"
          ]
        },
        {
          "output_type": "stream",
          "name": "stdout",
          "text": [
            "Func 4: f(x)=x/quad(x)*x with loss=8.384066392326214e-05\n",
            "Func 5: f(x)=linear(x+x+x) with loss=8.999947076648818\n"
          ]
        }
      ]
    }
  ],
  "metadata": {
    "kernelspec": {
      "display_name": "Python 3",
      "language": "python",
      "name": "python3"
    },
    "language_info": {
      "codemirror_mode": {
        "name": "ipython",
        "version": 3
      },
      "file_extension": ".py",
      "mimetype": "text/x-python",
      "name": "python",
      "nbconvert_exporter": "python",
      "pygments_lexer": "ipython3",
      "version": "3.8.10"
    },
    "colab": {
      "name": "lab2.ipynb",
      "provenance": [],
      "collapsed_sections": [],
      "toc_visible": true
    }
  },
  "nbformat": 4,
  "nbformat_minor": 0
}